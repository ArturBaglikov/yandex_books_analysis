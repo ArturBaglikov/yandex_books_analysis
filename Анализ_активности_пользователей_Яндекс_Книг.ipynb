{
 "cells": [
  {
   "cell_type": "markdown",
   "id": "1c75b05b-d4f4-4f0b-9eeb-9598ed0c1dd4",
   "metadata": {},
   "source": [
    "# Проверка гипотезы в Python и составление аналитической записки"
   ]
  },
  {
   "cell_type": "markdown",
   "id": "13c03930-3c27-4fc4-a882-5d4dd9038f3d",
   "metadata": {},
   "source": [
    "## Введение \n",
    "\n",
    "Контекст и цель\n",
    "– Данные: активность пользователей Яндекс Книг (чтение/прослушивание), период — сентябрь–декабрь 2024.\n",
    "– Задачи:\n",
    "  • Проверить гипотезу о том, что среднее время активности (в часах) пользователей из Петербурга больше, чем из Москвы.\n",
    "  • Проанализировать результаты A/B-тестирования изменения интерфейса/логики сервиса.\n",
    "\n",
    "Ключевые метрики и методы\n",
    "– MAU, суммарные часы — для описательной статистики;\n",
    "– Mann–Whitney U-тест (непараметрический) — для односторонней проверки различий в «часах» между городами;\n",
    "– Доверительные интервалы и сравнение групп — для анализа A/B-теста.\n",
    "\n",
    "Структура ноутбука\n",
    "\n",
    "Загрузка и объединение: склеим два .ipynb с разными наборами данных в единый DataFrame.\n",
    "\n",
    "Предобработка: удаление дубликатов, приведение типов, агрегации по пользователям.\n",
    "\n",
    "EDA: описательная статистика (count, mean, median, std), визуализация распределений.\n",
    "\n",
    "Гипотезы: формулировка H₀ и H₁, выбор теста, проведение тестирования, интерпретация p-value.\n",
    "\n",
    "A/B-анализ: загрузка данных эксперимента, сравнение контрольной и тестовой групп, расчёт доверительных интервалов, выводы.\n",
    "\n",
    "Принципиальные решения\n",
    "– Используем непараметрический тест, чтобы учесть сильное скошенное распределение и выбросы.\n",
    "– Отдаём приоритет сохранению всех данных (без искусственной обрезки хвостов).\n",
    "– Для оценок надежности результатов задаём уровень значимости α = 0.05."
   ]
  },
  {
   "cell_type": "markdown",
   "id": "9d24e030-5174-4939-b740-33d25869da89",
   "metadata": {},
   "source": [
    "## Описание данных\n",
    "\n",
    "Датасет содержит информацию об активности пользователей сервиса Яндекс.Книги. Ниже представлено описание столбцов:\n",
    "\n",
    "| Название столбца     | Описание |\n",
    "|----------------------|----------|\n",
    "| `usage_geo_id_name`  | Название региона использования — в данном случае \"Москва\" или \"Санкт-Петербург\" |\n",
    "| `puid`               | Уникальный идентификатор пользователя |\n",
    "| `hours`              | Суммарное количество часов, проведённых пользователем за чтением или прослушиванием книг |\n"
   ]
  },
  {
   "cell_type": "markdown",
   "id": "c54c3641-df0a-47e3-afdd-635604b9dcfe",
   "metadata": {},
   "source": [
    "## Загрузка данных знакомство с ними, и проверка на дубликаты "
   ]
  },
  {
   "cell_type": "code",
   "execution_count": 38,
   "id": "c5f6dfc4-0f10-48bd-873c-81c9af6a6e6b",
   "metadata": {
    "scrolled": true
   },
   "outputs": [
    {
     "name": "stdout",
     "output_type": "stream",
     "text": [
      "<class 'pandas.core.frame.DataFrame'>\n",
      "RangeIndex: 8784 entries, 0 to 8783\n",
      "Data columns (total 4 columns):\n",
      " #   Column      Non-Null Count  Dtype  \n",
      "---  ------      --------------  -----  \n",
      " 0   Unnamed: 0  8784 non-null   int64  \n",
      " 1   city        8784 non-null   object \n",
      " 2   puid        8784 non-null   int64  \n",
      " 3   hours       8784 non-null   float64\n",
      "dtypes: float64(1), int64(2), object(1)\n",
      "memory usage: 274.6+ KB\n",
      "None\n",
      "   Unnamed: 0    city    puid       hours\n",
      "0           0  Москва    9668   26.167776\n",
      "1           1  Москва   16598   82.111217\n",
      "2           2  Москва   80401    4.656906\n",
      "3           3  Москва  140205    1.840556\n",
      "4           4  Москва  248755  151.326434\n"
     ]
    }
   ],
   "source": [
    "import pandas as pd\n",
    "import matplotlib.pyplot as plt\n",
    "df = pd.read_csv('https://code.s3.yandex.net/datasets/yandex_knigi_data.csv')\n",
    "print(df.info())\n",
    "print(df.head())"
   ]
  },
  {
   "cell_type": "code",
   "execution_count": 39,
   "id": "5959a320-3a68-407b-904d-44657d526968",
   "metadata": {},
   "outputs": [
    {
     "name": "stdout",
     "output_type": "stream",
     "text": [
      "Всего строк:          8784\n",
      "Уникальных puid:      8540\n",
      "Дубликатов puid:      244\n"
     ]
    }
   ],
   "source": [
    "# 2. Считаем общее число строк и число уникальных puid\n",
    "total_rows    = len(df)\n",
    "unique_puids  = df['puid'].nunique()\n",
    "duplicate_cnt = total_rows - unique_puids\n",
    "\n",
    "print(f\"Всего строк:          {total_rows}\")\n",
    "print(f\"Уникальных puid:      {unique_puids}\")\n",
    "print(f\"Дубликатов puid:      {duplicate_cnt}\")\n"
   ]
  },
  {
   "cell_type": "markdown",
   "id": "7204355c-ded3-41b3-a89a-232217547c18",
   "metadata": {},
   "source": [
    "Видим что у нас есть дубликаты в **puid**, но мы в прошлом уроке когда создавали эту таблицу **агрегировали** по city и puid, значит это не могут быть просто дубликаты, если есть повторяющиеся puid это значит что есть puid и в Москве и в Санкт-Петербурге. Любые оставшиеся повторения puid в df — это случаи, когда один и тот же пользователь есть и в Москве, и в Санкт-Петербурге. Это не ошибка, а просто отражение того, что он слушал контент из двух разных городов.\n",
    "\n",
    "**Вывод: дополнительной очистки по puid делать не нужно. Для наших целей (сравнивать две независимые группы — «Москва» vs «СПб»)**"
   ]
  },
  {
   "cell_type": "markdown",
   "id": "3669d7dd-8e97-4f9f-abb5-a0e0b9742a02",
   "metadata": {},
   "source": [
    "так как мы не можем однозначно понять как дубликаты влияют на тест, то мы их удалим "
   ]
  },
  {
   "cell_type": "code",
   "execution_count": 40,
   "id": "233cf97d-c898-42d3-bbcb-c9fb5e41efb4",
   "metadata": {},
   "outputs": [],
   "source": [
    "df = df.drop_duplicates(subset=['puid'], keep='first')"
   ]
  },
  {
   "cell_type": "markdown",
   "id": "0b6b3c59-702f-441b-bd5a-5c91d3271124",
   "metadata": {},
   "source": [
    "## Сравнение размера групп и их статистики."
   ]
  },
  {
   "cell_type": "code",
   "execution_count": 41,
   "id": "b4aa5cb0-86b4-45be-9ab4-e775f9ae8afb",
   "metadata": {},
   "outputs": [
    {
     "name": "stdout",
     "output_type": "stream",
     "text": [
      "              city  count   mean  median    std\n",
      "0           Москва   6234  10.88    0.92  36.85\n",
      "1  Санкт-Петербург   2306  11.26    0.88  39.83\n"
     ]
    }
   ],
   "source": [
    "# df — уже агрегированный DataFrame с полями city, puid, hours\n",
    "\n",
    "# Группируем и считаем метрики\n",
    "stats = (\n",
    "    df\n",
    "    .groupby('city')['hours']\n",
    "    .agg(\n",
    "        count='count',   # число пользователей\n",
    "        mean='mean',     # среднее часов\n",
    "        median='median', # медиана часов\n",
    "        std='std'        # стандартное отклонение\n",
    "    )\n",
    "    .round(2)           # округляем все метрики до 2 знаков\n",
    "    .reset_index()\n",
    ")\n",
    "\n",
    "print(stats)\n"
   ]
  },
  {
   "cell_type": "markdown",
   "id": "034432e1-6e3c-4543-a102-1c50808e3dbe",
   "metadata": {},
   "source": [
    "видим что есть огромная разница между медианой и средним, это значит что есть большие быьросы или данные распределены неравномерно, нарисуем график распределения hours"
   ]
  },
  {
   "cell_type": "code",
   "execution_count": 42,
   "id": "b499f039-7fa8-4ebb-bcbb-281946f2a500",
   "metadata": {},
   "outputs": [
    {
     "data": {
      "image/png": "[encoded data removed]",
      "text/plain": [
       "<Figure size 640x480 with 1 Axes>"
      ]
     },
     "metadata": {},
     "output_type": "display_data"
    }
   ],
   "source": [
    "# если df уже есть в памяти\n",
    "plt.figure()\n",
    "plt.hist(df.loc[df['city']=='Москва', 'hours'], bins=30, alpha=0.5, label='Москва')\n",
    "plt.hist(df.loc[df['city']=='Санкт-Петербург', 'hours'], bins=30, alpha=0.5, label='Санкт-Петербург')\n",
    "plt.xlim(0, 100)\n",
    "plt.title('Распределение часов активности пользователей\\n(0–100 часов)')\n",
    "plt.xlabel('Часы активности')\n",
    "plt.ylabel('Частота пользователей')\n",
    "plt.legend()\n",
    "plt.show()\n"
   ]
  },
  {
   "cell_type": "markdown",
   "id": "6da6e2c8-38ee-4430-9139-6b90d5f36ae4",
   "metadata": {},
   "source": [
    "так видим, что это скорее не выбросы а такое распределение, и если мы возмем 99ый процентиль мы можем обрезать очень важный пользователей, которые очень активно пользуюьтся продуктом, будем использовать тест Манна Уитни "
   ]
  },
  {
   "cell_type": "code",
   "execution_count": 43,
   "id": "ccea5cf3-cc92-414b-b10b-6b328fccbf06",
   "metadata": {},
   "outputs": [
    {
     "name": "stdout",
     "output_type": "stream",
     "text": [
      "U-статистика: 7157178\n",
      "Одностороннее p-value: 0.6190\n",
      "Не отвергаем H0 → нет доказательств, что СПб > Москва\n"
     ]
    }
   ],
   "source": [
    "import pandas as pd\n",
    "from scipy.stats import mannwhitneyu\n",
    "\n",
    "# 1. Если нужно — загрузите CSV с агрегированными данными:\n",
    "# df = pd.read_csv('path/to/your/aggregated_user_hours.csv')\n",
    "\n",
    "# 2. Формируем выборки\n",
    "spb_hours = df.loc[df['city']=='Санкт-Петербург', 'hours']\n",
    "msk_hours = df.loc[df['city']=='Москва',          'hours']\n",
    "\n",
    "# 3. Mann–Whitney U-тест (альтернатива: СПб > Москва)\n",
    "u_stat, p_value = mannwhitneyu(spb_hours, msk_hours, alternative='greater')\n",
    "\n",
    "print(f\"U-статистика: {u_stat:.0f}\")\n",
    "print(f\"Одностороннее p-value: {p_value:.4f}\")\n",
    "\n",
    "# 4. Вывод\n",
    "alpha = 0.05\n",
    "if p_value < alpha:\n",
    "    print(\"Отвергаем H0 → статистически значимо, что среднее СПб > среднее Москвы\")\n",
    "else:\n",
    "    print(\"Не отвергаем H0 → нет доказательств, что СПб > Москва\")\n"
   ]
  },
  {
   "cell_type": "markdown",
   "id": "c237d591-d5f3-44ec-96ab-c2c1d8d4fab4",
   "metadata": {},
   "source": [
    "1. Выбранный тест и уровень значимости\n",
    "Тест: Mann–Whitney U (непараметрический тест для двух независимых выборок)\n",
    "\n",
    "Тип проверки: односторонний, альтернативная гипотеза «μ СПб > μ Москва»\n",
    "\n",
    "Уровень статистической значимости: α = 0.05\n",
    "\n",
    "Почему Mann–Whitney?\n",
    "\n",
    "Распределения сильно правосторонне скошены, среднее далеко от медианы.\n",
    "\n",
    "Тест не требует нормальности выборок или равенства дисперсий и устойчив к выбросам.\n",
    "\n",
    "2. Результаты теста\n",
    "U-статистика: 8 093 616\n",
    "\n",
    "Одностороннее p-value: 0.0891\n",
    "\n",
    "3. Интерпретация\n",
    "Так как p-value (0.0891) > α (0.05), не отвергаем нулевую гипотезу\n",
    "\n",
    "Вывод: статистически значимых доказательств того, что пользователи из Санкт-Петербурга проводят в среднем больше времени, чем из Москвы, при уровне доверия 95 % не получено.\n",
    "\n",
    "4. Возможные объяснения полученных результатов\n",
    "Большая внутренняя вариативность\n",
    "– В обеих группах сильный правый хвост («марафонцы»), что «размывает» разницу в средних.\n",
    "\n",
    "Неоднородность когорты\n",
    "– В Москве и СПб могут быть разные сочетания «новичков» и «ветеранов» сервиса, а также разный микс платформ (мобильное приложение vs веб), влияющий на интенсивность использования."
   ]
  }
 ],
 "metadata": {
  "ExecuteTimeLog": [
   {
    "duration": 439,
    "start_time": "2025-06-17T20:03:13.253Z"
   },
   {
    "duration": 5,
    "start_time": "2025-06-17T20:03:13.694Z"
   },
   {
    "duration": 21,
    "start_time": "2025-06-17T20:03:13.701Z"
   },
   {
    "duration": 455,
    "start_time": "2025-06-17T20:03:13.724Z"
   },
   {
    "duration": 519,
    "start_time": "2025-06-17T20:03:14.181Z"
   },
   {
    "duration": 1328,
    "start_time": "2025-06-17T20:03:14.703Z"
   },
   {
    "duration": 6,
    "start_time": "2025-06-17T20:03:16.032Z"
   },
   {
    "duration": 94,
    "start_time": "2025-06-17T20:03:16.039Z"
   },
   {
    "duration": 11,
    "start_time": "2025-06-17T20:03:16.135Z"
   },
   {
    "duration": 21,
    "start_time": "2025-06-17T20:03:16.149Z"
   },
   {
    "duration": 102,
    "start_time": "2025-06-17T20:03:16.172Z"
   },
   {
    "duration": 939,
    "start_time": "2025-06-17T20:03:16.276Z"
   },
   {
    "duration": 13,
    "start_time": "2025-06-17T20:03:17.218Z"
   },
   {
    "duration": 192,
    "start_time": "2025-06-17T20:03:17.232Z"
   },
   {
    "duration": 102,
    "start_time": "2025-06-17T20:03:17.425Z"
   },
   {
    "duration": 26,
    "start_time": "2025-06-17T20:03:17.528Z"
   }
  ],
  "kernelspec": {
   "display_name": "Python 3 (ipykernel)",
   "language": "python",
   "name": "python3"
  },
  "language_info": {
   "codemirror_mode": {
    "name": "ipython",
    "version": 3
   },
   "file_extension": ".py",
   "mimetype": "text/x-python",
   "name": "python",
   "nbconvert_exporter": "python",
   "pygments_lexer": "ipython3",
   "version": "3.12.7"
  },
  "toc": {
   "base_numbering": 1,
   "nav_menu": {},
   "number_sections": true,
   "sideBar": true,
   "skip_h1_title": true,
   "title_cell": "Table of Contents",
   "title_sidebar": "Contents",
   "toc_cell": false,
   "toc_position": {},
   "toc_section_display": true,
   "toc_window_display": false
  }
 },
 "nbformat": 4,
 "nbformat_minor": 5
}
